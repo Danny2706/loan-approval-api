{
 "cells": [
  {
   "cell_type": "markdown",
   "id": "c9decd1e-8539-48ae-a2c2-274ad2a6e9c7",
   "metadata": {},
   "source": [
    "# Loan_Approval"
   ]
  },
  {
   "cell_type": "markdown",
   "id": "76d395bf-e7a4-40db-909e-cc6059dbdd34",
   "metadata": {},
   "source": [
    "### Data Retrieving\n",
    "\n",
    "importing The data Using Pandas and Displaying the resulting Dataframe."
   ]
  },
  {
   "cell_type": "code",
   "execution_count": 14,
   "id": "cd71b32d-60b2-4a56-9be7-3f1c57e0d839",
   "metadata": {},
   "outputs": [
    {
     "name": "stdout",
     "output_type": "stream",
     "text": [
      "   loan_size  interest_rate  borrower_income  debt_to_income  num_of_accounts  \\\n",
      "0    10700.0          7.672            52800        0.431818                5   \n",
      "1     8400.0          6.692            43600        0.311927                3   \n",
      "2     9000.0          6.963            46100        0.349241                3   \n",
      "3    10700.0          7.664            52700        0.430740                5   \n",
      "4    10800.0          7.698            53000        0.433962                5   \n",
      "\n",
      "   derogatory_marks  total_debt  loan_status  \n",
      "0                 1       22800            0  \n",
      "1                 0       13600            0  \n",
      "2                 0       16100            0  \n",
      "3                 1       22700            0  \n",
      "4                 1       23000            0  \n"
     ]
    }
   ],
   "source": [
    "import pandas as pd\n",
    "import numpy as np\n",
    "import seaborn as sns\n",
    "import matplotlib.pyplot as plt\n",
    "from sklearn.model_selection import train_test_split\n",
    "\n",
    "df = pd.read_csv(\"lending_data.csv\")\n",
    "print(df.head())"
   ]
  },
  {
   "cell_type": "markdown",
   "id": "785c153b-54da-4eef-8bcc-d7654b650ad2",
   "metadata": {},
   "source": [
    "## Get dataset summary & numerical statistics"
   ]
  },
  {
   "cell_type": "code",
   "execution_count": 22,
   "id": "10b22055-4712-46b3-82bb-1173925208b2",
   "metadata": {},
   "outputs": [
    {
     "name": "stdout",
     "output_type": "stream",
     "text": [
      "<class 'pandas.core.frame.DataFrame'>\n",
      "RangeIndex: 77536 entries, 0 to 77535\n",
      "Data columns (total 8 columns):\n",
      " #   Column            Non-Null Count  Dtype  \n",
      "---  ------            --------------  -----  \n",
      " 0   loan_size         77536 non-null  float64\n",
      " 1   interest_rate     77536 non-null  float64\n",
      " 2   borrower_income   77536 non-null  int64  \n",
      " 3   debt_to_income    77536 non-null  float64\n",
      " 4   num_of_accounts   77536 non-null  int64  \n",
      " 5   derogatory_marks  77536 non-null  int64  \n",
      " 6   total_debt        77536 non-null  int64  \n",
      " 7   loan_status       77536 non-null  int64  \n",
      "dtypes: float64(3), int64(5)\n",
      "memory usage: 4.7 MB\n",
      "None\n",
      "          loan_size  interest_rate  borrower_income  debt_to_income  \\\n",
      "count  77536.000000   77536.000000     77536.000000    77536.000000   \n",
      "mean    9805.562577       7.292333     49221.949804        0.377318   \n",
      "std     2093.223153       0.889495      8371.635077        0.081519   \n",
      "min     5000.000000       5.250000     30000.000000        0.000000   \n",
      "25%     8700.000000       6.825000     44800.000000        0.330357   \n",
      "50%     9500.000000       7.172000     48100.000000        0.376299   \n",
      "75%    10400.000000       7.528000     51400.000000        0.416342   \n",
      "max    23800.000000      13.235000    105200.000000        0.714829   \n",
      "\n",
      "       num_of_accounts  derogatory_marks    total_debt   loan_status  \n",
      "count     77536.000000      77536.000000  77536.000000  77536.000000  \n",
      "mean          3.826610          0.392308  19221.949804      0.032243  \n",
      "std           1.904426          0.582086   8371.635077      0.176646  \n",
      "min           0.000000          0.000000      0.000000      0.000000  \n",
      "25%           3.000000          0.000000  14800.000000      0.000000  \n",
      "50%           4.000000          0.000000  18100.000000      0.000000  \n",
      "75%           4.000000          1.000000  21400.000000      0.000000  \n",
      "max          16.000000          3.000000  75200.000000      1.000000  \n"
     ]
    }
   ],
   "source": [
    "print(df.info()) \n",
    "print(df.describe()) "
   ]
  },
  {
   "cell_type": "markdown",
   "id": "7270c635-7532-4969-8ced-61d18d405481",
   "metadata": {},
   "source": [
    "\n",
    "## Shows missing values per column\n",
    "     . If there is a missing numeric and Catagorical values Replace with  mean and moad respectivelly."
   ]
  },
  {
   "cell_type": "code",
   "execution_count": 43,
   "id": "9592824d-6f27-4112-a2fc-f35c8df56b26",
   "metadata": {},
   "outputs": [
    {
     "name": "stdout",
     "output_type": "stream",
     "text": [
      "Missing Values After Handling:\n",
      " loan_size           0\n",
      "interest_rate       0\n",
      "borrower_income     0\n",
      "debt_to_income      0\n",
      "num_of_accounts     0\n",
      "derogatory_marks    0\n",
      "total_debt          0\n",
      "loan_status         0\n",
      "dtype: int64\n"
     ]
    }
   ],
   "source": [
    "df.fillna(df.mean(), inplace=True)  \n",
    "df.fillna(df.mode().iloc[0], inplace=True)\n",
    "print(\"Missing Values After Handling:\\n\", df.isnull().sum())"
   ]
  },
  {
   "cell_type": "markdown",
   "id": "ae0ec8d7-0f59-4eff-ad26-603b2c02e04e",
   "metadata": {},
   "source": [
    "# Data Preproccessing (Encoding & Scaling)\n",
    "     . Since all columns in the dataset are numerical, we don't need categorical encoding. However, feature scaling is required."
   ]
  },
  {
   "cell_type": "code",
   "execution_count": 46,
   "id": "566dacfa-d44f-463b-be5e-4c8cb892d00d",
   "metadata": {},
   "outputs": [
    {
     "name": "stdout",
     "output_type": "stream",
     "text": [
      "   loan_size  interest_rate  borrower_income  debt_to_income  num_of_accounts  \\\n",
      "0   0.427304       0.426837         0.427404        0.668571         0.616143   \n",
      "1  -0.671487      -0.674918        -0.671552       -0.802166        -0.434049   \n",
      "2  -0.384846      -0.370249        -0.372922       -0.344424        -0.434049   \n",
      "3   0.427304       0.417844         0.415459        0.655346         0.616143   \n",
      "4   0.475078       0.456068         0.451295        0.694873         0.616143   \n",
      "\n",
      "   derogatory_marks  total_debt  loan_status  \n",
      "0          1.043996    0.427404            0  \n",
      "1         -0.673973   -0.671552            0  \n",
      "2         -0.673973   -0.372922            0  \n",
      "3          1.043996    0.415459            0  \n",
      "4          1.043996    0.451295            0  \n"
     ]
    }
   ],
   "source": [
    "from sklearn.preprocessing import StandardScaler\n",
    "\n",
    "numerical_cols = ['loan_size', 'interest_rate', 'borrower_income', \n",
    "                  'debt_to_income', 'num_of_accounts', 'derogatory_marks', \n",
    "                  'total_debt']\n",
    "\n",
    "scaler = StandardScaler()\n",
    "df[numerical_cols] = scaler.fit_transform(df[numerical_cols])\n",
    "\n",
    "print(df.head())\n"
   ]
  },
  {
   "cell_type": "markdown",
   "id": "d5615915-b16f-4a41-82a6-064b712ae2b3",
   "metadata": {},
   "source": [
    "##  Feature Selection & Splitting Data\n",
    "         . Prepares data for training by splitting it into training and test sets."
   ]
  },
  {
   "cell_type": "code",
   "execution_count": 49,
   "id": "07a32502-e895-4de0-a77a-fd8eb426103f",
   "metadata": {},
   "outputs": [
    {
     "name": "stdout",
     "output_type": "stream",
     "text": [
      "Training Data Shape: (62028, 7)\n",
      "Testing Data Shape: (15508, 7)\n"
     ]
    }
   ],
   "source": [
    "from sklearn.model_selection import train_test_split\n",
    "\n",
    "# Separate features (X) and target variable (y)\n",
    "X = df.drop(columns=['loan_status'])  # Features\n",
    "y = df['loan_status']  # Target variable (0 = Not Approved, 1 = Approved)\n",
    "\n",
    "# Split into 80% training and 20% testing sets\n",
    "X_train, X_test, y_train, y_test = train_test_split(X, y, test_size=0.2, random_state=42)\n",
    "\n",
    "# Print dataset shapes\n",
    "print(\"Training Data Shape:\", X_train.shape)\n",
    "print(\"Testing Data Shape:\", X_test.shape)\n"
   ]
  },
  {
   "cell_type": "markdown",
   "id": "4b21c18d-f4db-4a1a-b3ff-ff53d39cfd51",
   "metadata": {},
   "source": [
    "# Predict Model Performance\n",
    "     . I predict that the Random Forest Classifier will outperform Logistic Regression. The reason behind my prediction is that Random Forests can determine feature importance by analyzing how often each feature is selected across multiple decision trees. This ability allows the model to handle complex relationships between variables, which I believe will contribute to better overall performance compared to Logistic Regression, which assumes a linear relationship between features. later compare it with the actual model results."
   ]
  },
  {
   "cell_type": "markdown",
   "id": "a1a0cd0a-7b63-42bf-9a42-c7478f776dc5",
   "metadata": {},
   "source": [
    "# Train Machine Learning Models\n",
    "      "
   ]
  },
  {
   "cell_type": "markdown",
   "id": "47b02f17-aa91-49c4-b8c8-97c71a01cf4d",
   "metadata": {},
   "source": [
    "   * Logistic Regression Model "
   ]
  },
  {
   "cell_type": "code",
   "execution_count": 64,
   "id": "6a23baa7-f00d-4c31-8e75-be0ab04815b0",
   "metadata": {},
   "outputs": [
    {
     "name": "stdout",
     "output_type": "stream",
     "text": [
      "Training Data Score: 0.9939865867027794\n",
      "Testing Data Score: 0.994712406499871\n",
      "              precision    recall  f1-score   support\n",
      "\n",
      "           0       1.00      1.00      1.00     15011\n",
      "           1       0.87      0.98      0.92       497\n",
      "\n",
      "    accuracy                           0.99     15508\n",
      "   macro avg       0.94      0.99      0.96     15508\n",
      "weighted avg       1.00      0.99      0.99     15508\n",
      "\n"
     ]
    }
   ],
   "source": [
    "from sklearn.linear_model import LogisticRegression\n",
    "from sklearn.metrics import accuracy_score, classification_report\n",
    "\n",
    "# Train Logistic Regression model\n",
    "classifier = LogisticRegression()\n",
    "classifier.fit(X_train, y_train)\n",
    "print(f\"Training Data Score: {classifier.score(X_train, y_train)}\")\n",
    "print(f\"Testing Data Score: {classifier.score(X_test, y_test)}\")\n",
    "print(classification_report(y_test, y_pred_log))\n"
   ]
  },
  {
   "cell_type": "markdown",
   "id": "aa092aa1-85c1-4f5f-82c1-694a8132af56",
   "metadata": {},
   "source": [
    "    * Random Forest Model"
   ]
  },
  {
   "cell_type": "code",
   "execution_count": 76,
   "id": "99bae100-f4b5-4452-bfed-72c833e1e67c",
   "metadata": {},
   "outputs": [
    {
     "name": "stdout",
     "output_type": "stream",
     "text": [
      "Training Score: 0.9970658412329916\n",
      "Testing Score: 0.9927779210729946\n",
      "              precision    recall  f1-score   support\n",
      "\n",
      "           0       1.00      1.00      1.00     15011\n",
      "           1       0.87      0.89      0.88       497\n",
      "\n",
      "    accuracy                           0.99     15508\n",
      "   macro avg       0.93      0.94      0.94     15508\n",
      "weighted avg       0.99      0.99      0.99     15508\n",
      "\n"
     ]
    }
   ],
   "source": [
    "from sklearn.ensemble import RandomForestClassifier\n",
    "from sklearn.preprocessing import StandardScaler\n",
    "\n",
    "scaler = StandardScaler().fit(X_train)\n",
    "X_train_scaled = scaler.transform(X_train)\n",
    "X_test_scaled = scaler.transform(X_test)\n",
    "clf = RandomForestClassifier(random_state=42, n_estimators=500).fit(X_train_scaled, y_train)\n",
    "print(f'Training Score: {clf.score(X_train_scaled, y_train)}')\n",
    "print(f'Testing Score: {clf.score(X_test_scaled, y_test)}')\n",
    "print(classification_report(y_test, y_pred_rf))"
   ]
  },
  {
   "cell_type": "markdown",
   "id": "dec6c974-3944-407b-ac29-41c94554867a",
   "metadata": {},
   "source": [
    " #### The Logistic Regression model had a score of 0.9947 and the Random Forest Classifier model had a score of 0.9927. Therefore, my prediction was incorrect, although only by a slim amount; the difference in scores is only around 0.002. It seems for this dataset, both models are very accurate in predicting the risk level of given loans."
   ]
  },
  {
   "cell_type": "markdown",
   "id": "a9ad4b81-358e-472b-957a-d3f0301a5e6c",
   "metadata": {},
   "source": [
    "#  Evaluate Model Performance"
   ]
  },
  {
   "cell_type": "code",
   "execution_count": 81,
   "id": "1d89b9e0-85c8-4c52-b530-36869d9f3f82",
   "metadata": {},
   "outputs": [
    {
     "data": {
      "image/png": "[encoded data removed]",
      "text/plain": [
       "<Figure size 640x480 with 2 Axes>"
      ]
     },
     "metadata": {},
     "output_type": "display_data"
    }
   ],
   "source": [
    "from sklearn.metrics import confusion_matrix\n",
    "import seaborn as sns\n",
    "import matplotlib.pyplot as plt\n",
    "\n",
    "# Confusion Matrix for Random Forest\n",
    "cm = confusion_matrix(y_test, y_pred_rf)\n",
    "sns.heatmap(cm, annot=True, fmt=\"d\", cmap=\"Blues\")\n",
    "plt.xlabel(\"Predicted\")\n",
    "plt.ylabel(\"Actual\")\n",
    "plt.title(\"Confusion Matrix - Random Forest\")\n",
    "plt.show()\n"
   ]
  },
  {
   "cell_type": "markdown",
   "id": "70f8c1bd-2cfe-4c89-a778-b5445483a988",
   "metadata": {},
   "source": [
    "True Negatives (TN) = 14944 (Correctly predicted 0 as 0)\n",
    "\n",
    "False Positives (FP) = 67 (Incorrectly predicted 1 as 0)\n",
    "\n",
    "False Negatives (FN) = 53 (Incorrectly predicted 0 as 1)\n",
    "\n",
    "True Positives (TP) = 444(Correctly predicted 1 as 1)"
   ]
  },
  {
   "cell_type": "code",
   "execution_count": 86,
   "id": "643de997-f3d4-4888-a618-da88f83176c5",
   "metadata": {},
   "outputs": [
    {
     "name": "stdout",
     "output_type": "stream",
     "text": [
      "Collecting fastapiNote: you may need to restart the kernel to use updated packages.\n",
      "\n",
      "  Downloading fastapi-0.115.8-py3-none-any.whl.metadata (27 kB)\n",
      "Collecting uvicorn\n",
      "  Downloading uvicorn-0.34.0-py3-none-any.whl.metadata (6.5 kB)\n",
      "Requirement already satisfied: scikit-learn in c:\\users\\danyi\\anaconda3\\lib\\site-packages (1.5.1)\n",
      "Requirement already satisfied: pandas in c:\\users\\danyi\\anaconda3\\lib\\site-packages (2.2.2)\n",
      "Collecting starlette<0.46.0,>=0.40.0 (from fastapi)\n",
      "  Downloading starlette-0.45.3-py3-none-any.whl.metadata (6.3 kB)\n",
      "Requirement already satisfied: pydantic!=1.8,!=1.8.1,!=2.0.0,!=2.0.1,!=2.1.0,<3.0.0,>=1.7.4 in c:\\users\\danyi\\anaconda3\\lib\\site-packages (from fastapi) (2.8.2)\n",
      "Requirement already satisfied: typing-extensions>=4.8.0 in c:\\users\\danyi\\anaconda3\\lib\\site-packages (from fastapi) (4.11.0)\n",
      "Requirement already satisfied: click>=7.0 in c:\\users\\danyi\\anaconda3\\lib\\site-packages (from uvicorn) (8.1.7)\n",
      "Requirement already satisfied: h11>=0.8 in c:\\users\\danyi\\anaconda3\\lib\\site-packages (from uvicorn) (0.14.0)\n",
      "Requirement already satisfied: numpy>=1.19.5 in c:\\users\\danyi\\anaconda3\\lib\\site-packages (from scikit-learn) (1.26.4)\n",
      "Requirement already satisfied: scipy>=1.6.0 in c:\\users\\danyi\\anaconda3\\lib\\site-packages (from scikit-learn) (1.13.1)\n",
      "Requirement already satisfied: joblib>=1.2.0 in c:\\users\\danyi\\anaconda3\\lib\\site-packages (from scikit-learn) (1.4.2)\n",
      "Requirement already satisfied: threadpoolctl>=3.1.0 in c:\\users\\danyi\\anaconda3\\lib\\site-packages (from scikit-learn) (3.5.0)\n",
      "Requirement already satisfied: python-dateutil>=2.8.2 in c:\\users\\danyi\\anaconda3\\lib\\site-packages (from pandas) (2.9.0.post0)\n",
      "Requirement already satisfied: pytz>=2020.1 in c:\\users\\danyi\\anaconda3\\lib\\site-packages (from pandas) (2024.1)\n",
      "Requirement already satisfied: tzdata>=2022.7 in c:\\users\\danyi\\anaconda3\\lib\\site-packages (from pandas) (2023.3)\n",
      "Requirement already satisfied: colorama in c:\\users\\danyi\\anaconda3\\lib\\site-packages (from click>=7.0->uvicorn) (0.4.6)\n",
      "Requirement already satisfied: annotated-types>=0.4.0 in c:\\users\\danyi\\anaconda3\\lib\\site-packages (from pydantic!=1.8,!=1.8.1,!=2.0.0,!=2.0.1,!=2.1.0,<3.0.0,>=1.7.4->fastapi) (0.6.0)\n",
      "Requirement already satisfied: pydantic-core==2.20.1 in c:\\users\\danyi\\anaconda3\\lib\\site-packages (from pydantic!=1.8,!=1.8.1,!=2.0.0,!=2.0.1,!=2.1.0,<3.0.0,>=1.7.4->fastapi) (2.20.1)\n",
      "Requirement already satisfied: six>=1.5 in c:\\users\\danyi\\anaconda3\\lib\\site-packages (from python-dateutil>=2.8.2->pandas) (1.16.0)\n",
      "Requirement already satisfied: anyio<5,>=3.6.2 in c:\\users\\danyi\\anaconda3\\lib\\site-packages (from starlette<0.46.0,>=0.40.0->fastapi) (4.2.0)\n",
      "Requirement already satisfied: idna>=2.8 in c:\\users\\danyi\\anaconda3\\lib\\site-packages (from anyio<5,>=3.6.2->starlette<0.46.0,>=0.40.0->fastapi) (3.7)\n",
      "Requirement already satisfied: sniffio>=1.1 in c:\\users\\danyi\\anaconda3\\lib\\site-packages (from anyio<5,>=3.6.2->starlette<0.46.0,>=0.40.0->fastapi) (1.3.0)\n",
      "Downloading fastapi-0.115.8-py3-none-any.whl (94 kB)\n",
      "Downloading uvicorn-0.34.0-py3-none-any.whl (62 kB)\n",
      "Downloading starlette-0.45.3-py3-none-any.whl (71 kB)\n",
      "Installing collected packages: uvicorn, starlette, fastapi\n",
      "Successfully installed fastapi-0.115.8 starlette-0.45.3 uvicorn-0.34.0\n"
     ]
    }
   ],
   "source": [
    "pip install fastapi uvicorn scikit-learn pandas"
   ]
  },
  {
   "cell_type": "markdown",
   "id": "e0e3ec78-78c3-4bcf-97e5-f45cbd1a49ec",
   "metadata": {},
   "source": [
    "# Saving The Trainned Model"
   ]
  },
  {
   "cell_type": "code",
   "execution_count": 88,
   "id": "46113d83-1852-468d-88cc-a8dcd9087c86",
   "metadata": {},
   "outputs": [
    {
     "data": {
      "text/plain": [
       "['random_forest_model.pkl']"
      ]
     },
     "execution_count": 88,
     "metadata": {},
     "output_type": "execute_result"
    }
   ],
   "source": [
    "import joblib\n",
    "\n",
    "# Save the trained Random Forest model\n",
    "joblib.dump(rf_model, \"random_forest_model.pkl\")\n"
   ]
  },
  {
   "cell_type": "markdown",
   "id": "4dfedccb-4541-4deb-9634-49938a121f7e",
   "metadata": {},
   "source": [
    "## Approval Probability"
   ]
  },
  {
   "cell_type": "code",
   "execution_count": 106,
   "id": "35a6545f-05a0-448c-88c1-b48cdbede23e",
   "metadata": {},
   "outputs": [
    {
     "name": "stdout",
     "output_type": "stream",
     "text": [
      "Approval Probability: 0.41833333333333333\n"
     ]
    }
   ],
   "source": [
    "\n",
    "import pandas as pd\n",
    "\n",
    "input_data = pd.DataFrame([[\n",
    "    4000.0,   \n",
    "    3.5,      \n",
    "    150000.0, \n",
    "    0.10,     \n",
    "    8,        \n",
    "    0,       \n",
    "    2000.0    \n",
    "]], columns=X.columns)  \n",
    "\n",
    "prob = rf_model.predict_proba(input_data)\n",
    "print(\"Approval Probability:\", prob[0][1])  \n",
    "\n"
   ]
  },
  {
   "cell_type": "markdown",
   "id": "78690a18-0aff-4627-b591-9f5d2735fa0a",
   "metadata": {},
   "source": [
    "## Importance features for Approval "
   ]
  },
  {
   "cell_type": "code",
   "execution_count": 108,
   "id": "73cd0666-8b14-4728-8cb0-941e9d270dc6",
   "metadata": {},
   "outputs": [
    {
     "data": {
      "text/plain": [
       "[(0.33904464174698995, 'interest_rate'),\n",
       " (0.16819620748628641, 'borrower_income'),\n",
       " (0.15989338641796771, 'total_debt'),\n",
       " (0.14238129484090895, 'debt_to_income'),\n",
       " (0.1373689007673281, 'loan_size'),\n",
       " (0.053019859968405386, 'num_of_accounts'),\n",
       " (9.57087721135186e-05, 'derogatory_marks')]"
      ]
     },
     "execution_count": 108,
     "metadata": {},
     "output_type": "execute_result"
    }
   ],
   "source": [
    "importances = rf_model.feature_importances_\n",
    "feature_names = X.columns\n",
    "sorted(zip(importances, feature_names), reverse=True)\n"
   ]
  }
 ],
 "metadata": {
  "kernelspec": {
   "display_name": "Python 3 (ipykernel)",
   "language": "python",
   "name": "python3"
  },
  "language_info": {
   "codemirror_mode": {
    "name": "ipython",
    "version": 3
   },
   "file_extension": ".py",
   "mimetype": "text/x-python",
   "name": "python",
   "nbconvert_exporter": "python",
   "pygments_lexer": "ipython3",
   "version": "3.12.7"
  }
 },
 "nbformat": 4,
 "nbformat_minor": 5
}
