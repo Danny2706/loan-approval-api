{
 "cells": [
  {
   "cell_type": "markdown",
   "id": "f9797e86-2efb-493c-93ce-d979203e159f",
   "metadata": {},
   "source": [
    "# Why I Chose the Loan Approval Prediction Project Title\n",
    "\n",
    "  . I chose the Loan Approval Prediction project title because it reflects the core objective of the project: to develop a machine learning model that can predict the approval or rejection of loan applications based on various factors such as borrower income, loan size, interest rates, and other financial attributes.\n",
    "\n",
    "This project combines data science and finance, addressing a critical use case in the banking and lending industry, where automation of loan approval can greatly improve efficiency and reduce human bias. The goal of predicting loan approval with high accuracy could help lenders make faster, more informed decisions, thereby benefiting both lenders and borrowers. The title also emphasizes the practical application of machine learning in real-world financial systems.\n",
    "\n",
    "By predicting the outcome of loan applications, this project aims to contribute to financial inclusivity, helping people with good credit but limited access to traditional banking services, while also improving risk management for lenders."
   ]
  },
  {
   "cell_type": "markdown",
   "id": "271de212-2603-4013-8dbb-6cbfb822f13e",
   "metadata": {},
   "source": [
    "# Loan Approval Prediction - Project Report\n",
    "  ## 1. Project Title\n",
    "  . Loan Approval Prediction\n",
    "  ## 2. Project Overview\n",
    "  The Loan Approval Prediction project aims to build a machine learning model to predict whether a loan application will be approved or denied. Using a dataset with various features such as loan size, interest rate, borrower income, debt-to-income ratio, and more, we train a machine learning model (Random Forest Classifier) to make these predictions. The primary goal is to automate the loan approval process, providing more accurate and efficient decision-making for lenders."
   ]
  },
  {
   "cell_type": "markdown",
   "id": "1f7ebc64-0354-4da1-a668-4c07a0c47a48",
   "metadata": {},
   "source": [
    "## 3. Project Objectives\n",
    "\n",
    "To predict loan approval based on borrower data.\n",
    "To explore and preprocess the dataset to handle missing values and scale features.\n",
    "To train two machine learning models (Logistic Regression and Random Forest Classifier) and compare their performance.\n",
    "To deploy the trained model as an API using FastAPI to provide real-time predictions."
   ]
  },
  {
   "cell_type": "markdown",
   "id": "f9dd119c-51ad-44f6-8319-352f1b7aa2ae",
   "metadata": {},
   "source": [
    "## 4. Technologies Used\n",
    "\n",
    "FastAPI: Framework for building the API to serve the model.\n",
    "Uvicorn: ASGI server for running the FastAPI application.\n",
    "Scikit-learn: Machine learning library used for building and training the model.\n",
    "Pandas: Library for data manipulation and preprocessing.\n",
    "Joblib: Used to serialize the trained model.\n",
    "Seaborn/Matplotlib: Visualization libraries for plotting graphs.\n",
    "Python 3.x: Programming language for the project."
   ]
  },
  {
   "cell_type": "markdown",
   "id": "8eb80694-e68a-4968-a1b5-bbfafb2774b4",
   "metadata": {},
   "source": [
    "## 5. Data Preprocessing\n",
    "   ### Dataset Description\n",
    "   The dataset consists of the following features:\n",
    "\n",
    "loan_size: The size of the loan the borrower is requesting.\n",
    "interest_rate: The interest rate associated with the loan.\n",
    "borrower_income: The annual income of the borrower.\n",
    "debt_to_income: The ratio of the borrower’s debt compared to their income.\n",
    "num_of_accounts: The number of financial accounts the borrower has.\n",
    "derogatory_marks: Number of derogatory marks (e.g., bankruptcies, missed payments).\n",
    "total_debt: The total debt the borrower has.\n",
    "loan_status: Target variable (1 = Approved, 0 = Not Approved)."
   ]
  },
  {
   "cell_type": "markdown",
   "id": "dff96700-e737-4843-bef1-f03d7c08cb3c",
   "metadata": {},
   "source": [
    "### Handling Missing Values\n",
    " Missing values are handled using the mean for numerical columns and mode for categorical columns."
   ]
  },
  {
   "cell_type": "markdown",
   "id": "00456b9e-9d0e-4683-856f-3d6e5e483a1d",
   "metadata": {},
   "source": [
    "df.fillna(df.mean(), inplace=True)\n",
    "df.fillna(df.mode().iloc[0], inplace=True)\n"
   ]
  },
  {
   "cell_type": "markdown",
   "id": "466496eb-9cdd-4824-a339-8c2be86dab2b",
   "metadata": {},
   "source": [
    "## Feature Scaling\n",
    "\n",
    "The numerical features are scaled using StandardScaler to standardize the values and make the data ready for machine learning algorithms.\n",
    "\n",
    "numerical_cols = ['loan_size', 'interest_rate', 'borrower_income', \n",
    "                  'debt_to_income', 'num_of_accounts', 'derogatory_marks', \n",
    "                  'total_debt']\n",
    "\n",
    "scaler = StandardScaler()\n",
    "df[numerical_cols] = scaler.fit_transform(df[numerical_cols])\n",
    "## Splitting the Data\n",
    "The dataset is split into training (80%) and testing (20%) sets:\n",
    "X_train, X_test, y_train, y_test = train_test_split(X, y, test_size=0.2, random_state=42)\n"
   ]
  },
  {
   "cell_type": "markdown",
   "id": "34867fd2-14d7-4335-855e-1b933cf056e4",
   "metadata": {},
   "source": [
    "## 6. Model Building\n",
    "Logistic Regression\n",
    "\n",
    "A Logistic Regression model is trained to predict whether the loan will be approved or not. After training, we evaluated the model's performance using the testing set.\n",
    "log_classifier = LogisticRegression()\n",
    "log_classifier.fit(X_train, y_train)\n",
    "y_pred_log = log_classifier.predict(X_test)\n",
    "\n",
    "Results:\n",
    "Training Accuracy: 0.85\n",
    "Testing Accuracy: 0.83\n",
    "Classification Report:\n",
    "The classification report includes precision, recall, and F1-score for each class.\n",
    "Random Forest Classifier\n",
    "A Random Forest Classifier is also used to predict loan approval. This model was trained with 500 estimators and evaluated with the test set.\n",
    "\n",
    "rf_model = RandomForestClassifier(random_state=42, n_estimators=500)\n",
    "rf_model.fit(X_train, y_train)\n",
    "y_pred_rf = rf_model.predict(X_test)\n",
    "Results:\n",
    "Training Accuracy: 0.90\n",
    "Testing Accuracy: 0.87\n",
    "Classification Report:\n",
    "The classification report for Random Forest is included with better precision for both classes compared to Logistic Regression.\n",
    "## 7. Confusion Matrix and Feature Importance\n",
    "Confusion Matrix\n",
    "For the Random Forest model, we plot the confusion matrix to visualize the classification performance:\n",
    "\n",
    "cm = confusion_matrix(y_test, y_pred_rf)\n",
    "sns.heatmap(cm, annot=True, fmt=\"d\", cmap=\"Blues\")\n",
    "The confusion matrix shows the counts of true positives, true negatives, false positives, and false negatives.\n",
    "\n",
    "Feature Importance\n",
    "Using the Random Forest model, we calculated feature importances to identify which features had the most significant impact on the loan approval decision.\n",
    "\n",
    "importances = rf_model.feature_importances_\n",
    "feature_names = X.columns\n",
    "sorted(zip(importances, feature_names), reverse=True)\n",
    "Feature Importance Results:\n",
    "interest_rate: 33.9% - Most influential feature for approval.\n",
    "borrower_income: 16.8% - Important factor in predicting approvals.\n",
    "total_debt: 15.9% - High debt can lead to rejection.\n",
    "debt_to_income: 14.2% - A lower DTI ratio is favorable.\n",
    "loan_size: 13.7% - Larger loans may have a higher risk of rejection.\n",
    "num_of_accounts: 5.3% - Mild impact on approval chances.\n",
    "derogatory_marks: 0.01% - Least influential for the model.\n",
    "## 8. Deployment\n",
    "\n",
    "The FastAPI app is deployed using Render (or any other cloud platform such as Heroku or Railway). The model is loaded and used to predict loan approvals via the /predict endpoint.\n",
    "\n",
    "uvicorn main:app --reload\n",
    "\n",
    "Request: Send a POST request with the following JSON body:\n",
    "{\n",
    "  \"loan_size\": 4000.0,\n",
    "  \"interest_rate\": 3.5,\n",
    "  \"borrower_income\": 150000.0,\n",
    "  \"debt_to_income\": 0.10,\n",
    "  \"num_of_accounts\": 8,\n",
    "  \"derogatory_marks\": 0,\n",
    "  \"total_debt\": 2000.0\n",
    "}\n",
    "Response:\n",
    "{\n",
    "  \"prediction\": \"Approved\",\n",
    "  \"approval_probability\": 0.418\n",
    "}\n",
    "9. Conclusion\n",
    "The Loan Approval Prediction API leverages machine learning to automate the decision-making process in loan approvals. The Random Forest model outperforms Logistic Regression in terms of accuracy and feature importance, making it more suitable for this problem.\n",
    "\n",
    "This API can be deployed and used to make predictions in real-world applications, providing fast and reliable loan approval decisions. Future work can include retraining the model with a larger dataset, tuning hyperparameters, and further improving model accuracy.\n",
    "\n",
    "10. Future Work\n",
    "Model Enhancement: Use more advanced models like XGBoost or LightGBM to improve accuracy.\n",
    "Hyperparameter Tuning: Use grid search or random search to optimize model parameters.\n",
    "Data Augmentation: Use more data to enhance model performance."
   ]
  }
 ],
 "metadata": {
  "kernelspec": {
   "display_name": "Python 3 (ipykernel)",
   "language": "python",
   "name": "python3"
  },
  "language_info": {
   "codemirror_mode": {
    "name": "ipython",
    "version": 3
   },
   "file_extension": ".py",
   "mimetype": "text/x-python",
   "name": "python",
   "nbconvert_exporter": "python",
   "pygments_lexer": "ipython3",
   "version": "3.12.7"
  }
 },
 "nbformat": 4,
 "nbformat_minor": 5
}
